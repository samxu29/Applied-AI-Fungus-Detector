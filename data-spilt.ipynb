{
 "cells": [
  {
   "cell_type": "code",
   "execution_count": 1,
   "metadata": {},
   "outputs": [
    {
     "name": "stdout",
     "output_type": "stream",
     "text": [
      "Number of classes: 9\n"
     ]
    }
   ],
   "source": [
    "import os\n",
    "import shutil\n",
    "from sklearn.model_selection import train_test_split\n",
    "\n",
    "# Define paths\n",
    "train_dir = 'dataset/train'\n",
    "val_dir = 'dataset/val'\n",
    "test_dir = 'dataset/test'\n",
    "\n",
    "# Calculate the number of classes based on directories in the train folder\n",
    "classes = [d.name for d in os.scandir(train_dir) if d.is_dir()]\n",
    "num_classes = len(classes)\n",
    "print(f\"Number of classes: {num_classes}\")"
   ]
  },
  {
   "cell_type": "code",
   "execution_count": 2,
   "metadata": {},
   "outputs": [],
   "source": [
    "def split_data(train_dir, val_dir, test_dir, val_split_size=0.2, test_split_size=0.05):\n",
    "    for cls in classes:\n",
    "        cls_dir = os.path.join(train_dir, cls)\n",
    "        images = [os.path.join(cls_dir, img) for img in os.listdir(cls_dir) if img.endswith('.jpg')]\n",
    "\n",
    "        # Check if there are images in the class directory\n",
    "        if len(images) == 0:\n",
    "            print(f\"No images found in class {cls}. Skipping this class.\")\n",
    "            continue\n",
    "\n",
    "        # Split the data into train and initial validation set\n",
    "        train_imgs, initial_val_imgs = train_test_split(images, test_size=val_split_size)\n",
    "\n",
    "        # Split the initial validation set into final validation set and test set\n",
    "        val_imgs, test_imgs = train_test_split(initial_val_imgs, test_size=test_split_size / val_split_size)\n",
    "\n",
    "        # Create corresponding directories in val_dir and test_dir\n",
    "        val_cls_dir = os.path.join(val_dir, cls)\n",
    "        test_cls_dir = os.path.join(test_dir, cls)\n",
    "        os.makedirs(val_cls_dir, exist_ok=True)\n",
    "        os.makedirs(test_cls_dir, exist_ok=True)\n",
    "\n",
    "        # Move/copy validation and test images\n",
    "        for img in val_imgs:\n",
    "            shutil.move(img, val_cls_dir)  # Use shutil.copy if you want to keep the original\n",
    "        for img in test_imgs:\n",
    "            shutil.move(img, test_cls_dir)"
   ]
  },
  {
   "cell_type": "code",
   "execution_count": 3,
   "metadata": {},
   "outputs": [],
   "source": [
    "split_data(train_dir, val_dir, test_dir)"
   ]
  }
 ],
 "metadata": {
  "kernelspec": {
   "display_name": ".venv",
   "language": "python",
   "name": "python3"
  },
  "language_info": {
   "codemirror_mode": {
    "name": "ipython",
    "version": 3
   },
   "file_extension": ".py",
   "mimetype": "text/x-python",
   "name": "python",
   "nbconvert_exporter": "python",
   "pygments_lexer": "ipython3",
   "version": "3.10.13"
  }
 },
 "nbformat": 4,
 "nbformat_minor": 2
}
